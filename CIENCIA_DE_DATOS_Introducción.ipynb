{
  "nbformat": 4,
  "nbformat_minor": 0,
  "metadata": {
    "colab": {
      "provenance": []
    },
    "kernelspec": {
      "name": "python3",
      "display_name": "Python 3"
    },
    "language_info": {
      "name": "python"
    }
  },
  "cells": [
    {
      "cell_type": "markdown",
      "source": [
        "#Sesión 1: Prueba diagnóstica"
      ],
      "metadata": {
        "id": "aaJD_1wDcJ7d"
      }
    },
    {
      "cell_type": "markdown",
      "source": [
        "###Existen diferentes tipos de datos:\n",
        "- Numéricos (float - decimales, int - enteros)\n",
        "- Alfanuméricos o caracteres (string - str)\n",
        "- Booleanos (boolean)\n",
        "\n",
        "### Jerarquía matemática\n",
        "1. Paréntesis\n",
        "2. Exponentes\n",
        "3. Multiplicación/División/Módulo/División entera.\n",
        "4. Suma y la resta"
      ],
      "metadata": {
        "id": "MiIPoDHudNh-"
      }
    },
    {
      "cell_type": "markdown",
      "source": [
        "###Operaciones lógicas\n",
        "1. OR: Es falsa (false) si **TODAS** las preposiciones son falsas\n",
        "2. AND: Es verdadero (true) si **TODAS** las preposiciones son verdaderas\n",
        "3. NOT: Cambia el valor de verdad de una preposición"
      ],
      "metadata": {
        "id": "tyjnVAJZeu3x"
      }
    },
    {
      "cell_type": "markdown",
      "source": [
        "### Operaciones en python\n",
        "* **= Potencia\n",
        "- % = módulo. Calcula el residuo de la división\n",
        "- len = calcula la cantidad de caracteres en una cadena de caracteres\n",
        "- abs = calcula el valor absoluto\n",
        "* type = revisa el tipo de dato"
      ],
      "metadata": {
        "id": "qpKef0QTiLZf"
      }
    },
    {
      "cell_type": "code",
      "source": [
        "def ABC(): print(\"Hola mundo\")"
      ],
      "metadata": {
        "id": "U3GIlYB1kbg-"
      },
      "execution_count": 12,
      "outputs": []
    },
    {
      "cell_type": "code",
      "source": [
        "ABC()"
      ],
      "metadata": {
        "colab": {
          "base_uri": "https://localhost:8080/"
        },
        "id": "W0cjccOWkjQ8",
        "outputId": "1d843ea4-10e7-4815-9dc9-6ee6d837b68b"
      },
      "execution_count": 13,
      "outputs": [
        {
          "output_type": "stream",
          "name": "stdout",
          "text": [
            "Hola mundo\n"
          ]
        }
      ]
    },
    {
      "cell_type": "markdown",
      "source": [
        "* 5+3*4 = 17 es entero.\n",
        "* '5'+'3'*2 = 533 es de tipo caracter\n",
        "* 2 ** 11 == 1000 or 2** 9 == 100 --> FALSO tipo booleano\n",
        "* int(\"cincuenta\"): Error de tipo ValueError\n",
        "* 16/16 + 384/24 = tipo flotante (decimal)\n",
        "* 600+18% --> Error de tipo Sintaxis SyntaxError\n",
        "* 0 < (4096 % 10) < 6 --> FALSO tipo booleano\n",
        "* \"Max\"+\"Min\"= \"MaxMin\" dato de tipo caracter (string)\n",
        "- ABC()+ DEF()--> NameError: Función no definida\n",
        "- float(-int*(\"7\")+int(\"90)) Error de tipo Sintaxis\n",
        "- abs(len(\"seis\")-len(\"tres\")) = 0 de tipo entero\n",
        "* bool(1210) or bool(-3465) = VERDADERO tipo booleano\n",
        "*float(str(int(\"8\"*3)/3)[3])"
      ],
      "metadata": {
        "id": "nRcpfT9tcmtn"
      }
    },
    {
      "cell_type": "code",
      "source": [
        "bool(\"\")"
      ],
      "metadata": {
        "colab": {
          "base_uri": "https://localhost:8080/"
        },
        "id": "gXqCstxEnsqK",
        "outputId": "268158ca-a1ab-4943-a2d6-471038a0dbf1"
      },
      "execution_count": 24,
      "outputs": [
        {
          "output_type": "execute_result",
          "data": {
            "text/plain": [
              "False"
            ]
          },
          "metadata": {},
          "execution_count": 24
        }
      ]
    },
    {
      "cell_type": "code",
      "source": [
        "float(str(int(\"8\"*3)/3)[3])"
      ],
      "metadata": {
        "colab": {
          "base_uri": "https://localhost:8080/",
          "height": 141
        },
        "id": "UAquXgLhnWgs",
        "outputId": "bcaddd07-e297-4dc4-f598-1562d69d148d"
      },
      "execution_count": 23,
      "outputs": [
        {
          "output_type": "error",
          "ename": "ValueError",
          "evalue": "could not convert string to float: '.'",
          "traceback": [
            "\u001b[0;31m---------------------------------------------------------------------------\u001b[0m",
            "\u001b[0;31mValueError\u001b[0m                                Traceback (most recent call last)",
            "\u001b[0;32m<ipython-input-23-c6682b1086ac>\u001b[0m in \u001b[0;36m<cell line: 0>\u001b[0;34m()\u001b[0m\n\u001b[0;32m----> 1\u001b[0;31m \u001b[0mfloat\u001b[0m\u001b[0;34m(\u001b[0m\u001b[0mstr\u001b[0m\u001b[0;34m(\u001b[0m\u001b[0mint\u001b[0m\u001b[0;34m(\u001b[0m\u001b[0;34m\"8\"\u001b[0m\u001b[0;34m*\u001b[0m\u001b[0;36m3\u001b[0m\u001b[0;34m)\u001b[0m\u001b[0;34m/\u001b[0m\u001b[0;36m3\u001b[0m\u001b[0;34m)\u001b[0m\u001b[0;34m[\u001b[0m\u001b[0;36m3\u001b[0m\u001b[0;34m]\u001b[0m\u001b[0;34m)\u001b[0m\u001b[0;34m\u001b[0m\u001b[0;34m\u001b[0m\u001b[0m\n\u001b[0m",
            "\u001b[0;31mValueError\u001b[0m: could not convert string to float: '.'"
          ]
        }
      ]
    },
    {
      "cell_type": "code",
      "source": [
        "int(\"8\"*3)/3"
      ],
      "metadata": {
        "colab": {
          "base_uri": "https://localhost:8080/"
        },
        "id": "rfsp-bbgnEg_",
        "outputId": "5f5daaf3-002b-449f-de9d-5f17aa938555"
      },
      "execution_count": 22,
      "outputs": [
        {
          "output_type": "execute_result",
          "data": {
            "text/plain": [
              "296.0"
            ]
          },
          "metadata": {},
          "execution_count": 22
        }
      ]
    },
    {
      "cell_type": "code",
      "source": [
        "c=\"Hola\"\n",
        "c[3]"
      ],
      "metadata": {
        "colab": {
          "base_uri": "https://localhost:8080/",
          "height": 35
        },
        "id": "LleWyuAdmoVD",
        "outputId": "dd46a53e-a2ed-4611-a9a5-7867320e12da"
      },
      "execution_count": 21,
      "outputs": [
        {
          "output_type": "execute_result",
          "data": {
            "text/plain": [
              "'a'"
            ],
            "application/vnd.google.colaboratory.intrinsic+json": {
              "type": "string"
            }
          },
          "metadata": {},
          "execution_count": 21
        }
      ]
    },
    {
      "cell_type": "code",
      "source": [
        "bool(-3465)"
      ],
      "metadata": {
        "colab": {
          "base_uri": "https://localhost:8080/"
        },
        "id": "Y49_1oM5lxYe",
        "outputId": "b8a43b51-6c6e-4f6a-ccff-32076940c7f4"
      },
      "execution_count": 16,
      "outputs": [
        {
          "output_type": "execute_result",
          "data": {
            "text/plain": [
              "True"
            ]
          },
          "metadata": {},
          "execution_count": 16
        }
      ]
    },
    {
      "cell_type": "code",
      "source": [
        "ABC()+ DEF()"
      ],
      "metadata": {
        "colab": {
          "base_uri": "https://localhost:8080/",
          "height": 159
        },
        "id": "ppv1ACsUkGmS",
        "outputId": "3004957b-c2a9-4729-a9e2-e3b9786a6823"
      },
      "execution_count": 14,
      "outputs": [
        {
          "output_type": "stream",
          "name": "stdout",
          "text": [
            "Hola mundo\n"
          ]
        },
        {
          "output_type": "error",
          "ename": "NameError",
          "evalue": "name 'DEF' is not defined",
          "traceback": [
            "\u001b[0;31m---------------------------------------------------------------------------\u001b[0m",
            "\u001b[0;31mNameError\u001b[0m                                 Traceback (most recent call last)",
            "\u001b[0;32m<ipython-input-14-d84ba0867e6b>\u001b[0m in \u001b[0;36m<cell line: 0>\u001b[0;34m()\u001b[0m\n\u001b[0;32m----> 1\u001b[0;31m \u001b[0mABC\u001b[0m\u001b[0;34m(\u001b[0m\u001b[0;34m)\u001b[0m\u001b[0;34m+\u001b[0m \u001b[0mDEF\u001b[0m\u001b[0;34m(\u001b[0m\u001b[0;34m)\u001b[0m\u001b[0;34m\u001b[0m\u001b[0;34m\u001b[0m\u001b[0m\n\u001b[0m",
            "\u001b[0;31mNameError\u001b[0m: name 'DEF' is not defined"
          ]
        }
      ]
    },
    {
      "cell_type": "code",
      "source": [
        "float(-int*(\"7\")+int(\"90))"
      ],
      "metadata": {
        "colab": {
          "base_uri": "https://localhost:8080/",
          "height": 106
        },
        "id": "_qvXxxH0lHQb",
        "outputId": "24e5a889-a42e-4e3f-b9fb-cf8d1d61095a"
      },
      "execution_count": 15,
      "outputs": [
        {
          "output_type": "error",
          "ename": "SyntaxError",
          "evalue": "unterminated string literal (detected at line 1) (<ipython-input-15-60f9e4112df1>, line 1)",
          "traceback": [
            "\u001b[0;36m  File \u001b[0;32m\"<ipython-input-15-60f9e4112df1>\"\u001b[0;36m, line \u001b[0;32m1\u001b[0m\n\u001b[0;31m    float(-int*(\"7\")+int(\"90))\u001b[0m\n\u001b[0m                         ^\u001b[0m\n\u001b[0;31mSyntaxError\u001b[0m\u001b[0;31m:\u001b[0m unterminated string literal (detected at line 1)\n"
          ]
        }
      ]
    },
    {
      "cell_type": "code",
      "source": [
        "'5'+'3'"
      ],
      "metadata": {
        "colab": {
          "base_uri": "https://localhost:8080/",
          "height": 35
        },
        "id": "wDRiMcChd6UY",
        "outputId": "9cdddd74-7429-48fc-b429-4ca2f5a8107c"
      },
      "execution_count": 1,
      "outputs": [
        {
          "output_type": "execute_result",
          "data": {
            "text/plain": [
              "'53'"
            ],
            "application/vnd.google.colaboratory.intrinsic+json": {
              "type": "string"
            }
          },
          "metadata": {},
          "execution_count": 1
        }
      ]
    },
    {
      "cell_type": "code",
      "source": [
        "'3'*2"
      ],
      "metadata": {
        "colab": {
          "base_uri": "https://localhost:8080/",
          "height": 35
        },
        "id": "NJfctEKLeAop",
        "outputId": "f2a4660e-aa48-4a29-b17f-a88802eb0173"
      },
      "execution_count": 2,
      "outputs": [
        {
          "output_type": "execute_result",
          "data": {
            "text/plain": [
              "'33'"
            ],
            "application/vnd.google.colaboratory.intrinsic+json": {
              "type": "string"
            }
          },
          "metadata": {},
          "execution_count": 2
        }
      ]
    },
    {
      "cell_type": "code",
      "execution_count": 5,
      "metadata": {
        "colab": {
          "base_uri": "https://localhost:8080/"
        },
        "id": "9xTPQHfLagkF",
        "outputId": "baa1c071-6704-411e-e870-f130e41985e7"
      },
      "outputs": [
        {
          "output_type": "execute_result",
          "data": {
            "text/plain": [
              "int"
            ]
          },
          "metadata": {},
          "execution_count": 5
        }
      ],
      "source": [
        "type(int(\"5\"))"
      ]
    },
    {
      "cell_type": "code",
      "source": [
        "int(\"cincuenta\")"
      ],
      "metadata": {
        "colab": {
          "base_uri": "https://localhost:8080/",
          "height": 141
        },
        "id": "jKRKrMHvgWaN",
        "outputId": "3f20445d-cdf2-4098-9940-4b59ff9fca8c"
      },
      "execution_count": 6,
      "outputs": [
        {
          "output_type": "error",
          "ename": "ValueError",
          "evalue": "invalid literal for int() with base 10: 'cincuenta'",
          "traceback": [
            "\u001b[0;31m---------------------------------------------------------------------------\u001b[0m",
            "\u001b[0;31mValueError\u001b[0m                                Traceback (most recent call last)",
            "\u001b[0;32m<ipython-input-6-a15ff880c080>\u001b[0m in \u001b[0;36m<cell line: 0>\u001b[0;34m()\u001b[0m\n\u001b[0;32m----> 1\u001b[0;31m \u001b[0mint\u001b[0m\u001b[0;34m(\u001b[0m\u001b[0;34m\"cincuenta\"\u001b[0m\u001b[0;34m)\u001b[0m\u001b[0;34m\u001b[0m\u001b[0;34m\u001b[0m\u001b[0m\n\u001b[0m",
            "\u001b[0;31mValueError\u001b[0m: invalid literal for int() with base 10: 'cincuenta'"
          ]
        }
      ]
    },
    {
      "cell_type": "code",
      "source": [
        "4096 % 10"
      ],
      "metadata": {
        "colab": {
          "base_uri": "https://localhost:8080/"
        },
        "id": "XyNL3LUJjJwa",
        "outputId": "bb690e65-9eb5-4d66-968a-1eb9252e7253"
      },
      "execution_count": 10,
      "outputs": [
        {
          "output_type": "execute_result",
          "data": {
            "text/plain": [
              "6"
            ]
          },
          "metadata": {},
          "execution_count": 10
        }
      ]
    },
    {
      "cell_type": "code",
      "source": [
        "type(16/16)"
      ],
      "metadata": {
        "colab": {
          "base_uri": "https://localhost:8080/"
        },
        "id": "dLpIxk9VhBLp",
        "outputId": "7121fdff-9d49-4b4e-a20b-f626f2be5ca7"
      },
      "execution_count": 7,
      "outputs": [
        {
          "output_type": "execute_result",
          "data": {
            "text/plain": [
              "float"
            ]
          },
          "metadata": {},
          "execution_count": 7
        }
      ]
    },
    {
      "cell_type": "code",
      "source": [
        "18 +"
      ],
      "metadata": {
        "colab": {
          "base_uri": "https://localhost:8080/",
          "height": 106
        },
        "id": "EJTrWUsvhgLn",
        "outputId": "97777487-1568-44c2-e7b8-88eb41acdcbd"
      },
      "execution_count": 9,
      "outputs": [
        {
          "output_type": "error",
          "ename": "SyntaxError",
          "evalue": "invalid syntax (<ipython-input-9-bdf9db60f948>, line 1)",
          "traceback": [
            "\u001b[0;36m  File \u001b[0;32m\"<ipython-input-9-bdf9db60f948>\"\u001b[0;36m, line \u001b[0;32m1\u001b[0m\n\u001b[0;31m    18 +\u001b[0m\n\u001b[0m        ^\u001b[0m\n\u001b[0;31mSyntaxError\u001b[0m\u001b[0;31m:\u001b[0m invalid syntax\n"
          ]
        }
      ]
    },
    {
      "cell_type": "markdown",
      "source": [
        "#Sesion 2: Conociendo dataframes"
      ],
      "metadata": {
        "id": "2Bs8YzCFcVlB"
      }
    },
    {
      "cell_type": "code",
      "source": [],
      "metadata": {
        "id": "II-LqBHYca01"
      },
      "execution_count": null,
      "outputs": []
    }
  ]
}